{
  "nbformat": 4,
  "nbformat_minor": 0,
  "metadata": {
    "colab": {
      "name": "BD_SD.ipynb",
      "provenance": [],
      "collapsed_sections": [],
      "authorship_tag": "ABX9TyPZteiXA226m4pLCgT/hmw7",
      "include_colab_link": true
    },
    "kernelspec": {
      "name": "python3",
      "display_name": "Python 3"
    },
    "language_info": {
      "name": "python"
    }
  },
  "cells": [
    {
      "cell_type": "markdown",
      "metadata": {
        "id": "view-in-github",
        "colab_type": "text"
      },
      "source": [
        "<a href=\"https://colab.research.google.com/github/Alienor1268/flight/blob/main/BD_SD.ipynb\" target=\"_parent\"><img src=\"https://colab.research.google.com/assets/colab-badge.svg\" alt=\"Open In Colab\"/></a>"
      ]
    },
    {
      "cell_type": "markdown",
      "metadata": {
        "id": "F2JtmTngstW7"
      },
      "source": [
        "# Do we get different result while scaling the flight data?"
      ]
    },
    {
      "cell_type": "markdown",
      "metadata": {
        "id": "MdRCVdd_s2eC"
      },
      "source": [
        "Is there any differences any different results, while scaling the data? \n",
        "\n",
        "after running the random forest models, we can conclude, that the performace of our model is improving ( but not significantly): it means that we see an improvement but it remains slight.\n",
        "\n",
        "\n",
        "THe RMSE is decreadinng while scaling  to 1 million rows. \n",
        "\n",
        "It costs computational time and power for just slightly better results.\n"
      ]
    },
    {
      "cell_type": "markdown",
      "metadata": {
        "id": "eRH2RpRVuRQL"
      },
      "source": [
        "# A comparison between big and small data\n"
      ]
    },
    {
      "cell_type": "markdown",
      "metadata": {
        "id": "p-aAIrfOuXhD"
      },
      "source": [
        "**small data**\n",
        "Traditional\n",
        "Generally, it is obtained in an organized manner than is inserted into the database\n",
        "Data in the range of tens or hundreds of Gigabytes\n",
        "Data marts(Analysts)\n",
        "Contains less noise as data is less collected in a controlled manner\n"
      ]
    },
    {
      "cell_type": "markdown",
      "metadata": {
        "id": "7m40RcUL24PN"
      },
      "source": [
        "Small data are good at accomplishing one task, they are answering targeted queries. Small data are refering to \"limited volume, non-continuous collection, narrow variety and are usuallygenerated to answer specific questions\"\n",
        "\n",
        "\n",
        "\n"
      ]
    },
    {
      "cell_type": "markdown",
      "metadata": {
        "id": "w_Rplo3t67Hv"
      },
      "source": [
        "**Big data**\n",
        "The main caracteristics of big data are: "
      ]
    },
    {
      "cell_type": "markdown",
      "metadata": {
        "id": "akMVOqDr6byg"
      },
      "source": [
        "Volume: is the amount of data\n",
        "\n",
        "*   Variety: is related to the variety of data.\n",
        "*   Velocity: refers to the speed of data which are moving\n",
        "*   Volume: is the amount of data\n",
        "*   Veracity is related to the quality and accuracy of the data.\n",
        "*   Value refers to the value of each data\n",
        "\n",
        "Data that we can  get from sensors are not various. But they have the rest of the other caracterisctics.\n",
        "\n",
        "If the data have one or more of these caracrzeristics, it can be considered as big data.\n",
        "Different kind of data are processed with big data: \n",
        "structured, semi-structured and unstructured."
      ]
    },
    {
      "cell_type": "markdown",
      "metadata": {
        "id": "iYxql4F1DWni"
      },
      "source": [
        "**Has small data still value in a world of big data?**\n"
      ]
    },
    {
      "cell_type": "markdown",
      "metadata": {
        "id": "2sVA_-frDjpS"
      },
      "source": [
        "Could the big data replace small data? \n",
        "Big data is considered as \"hyped\", companies are collecting and investing a lot in big data. It makes the data exposed to the data market and to data brockers. This data processing could lead to \"dataveillance, social sorting, control creep, and anticipatory governance\"\n"
      ]
    },
    {
      "cell_type": "markdown",
      "metadata": {
        "id": "zv1SgN5wBnTy"
      },
      "source": [
        "Before 2008 there were no differences between small and big data.\n",
        "But since 2008, the big data paradigm has emerged and is refering to the fact that businneses and governments are using big data has main insight into their strategies. It assumes, that big data is able to solve any problem. But they still need to make sens of the  huge amount of data. \n",
        "\n",
        "According Vishal Chawla, senior tech journalist at Analytics India Magazine, \"the saying that businesses need a lot of data is a myth\"."
      ]
    },
    {
      "cell_type": "markdown",
      "metadata": {
        "id": "S0RqA3lkyi3m"
      },
      "source": [
        "The principle \"garbage in, garbage out’’, it means that big data is capturing what is easy to ensnare. In fact big data come from sensors and automatisations. This reasoning implies that big data doesn't need quality. \n",
        "\n",
        "According to this approach, Mayer-Schonberger and Cukier (2013: 13) are explaining , that ‘‘with less error from sampling we can accept more\n",
        "measurement error’’ (p.13) and ‘‘tolerate inexacti-\n",
        "tude’’ (p. 16). \n",
        "\n",
        "For training machine learning models, we need  data of good quality, it can enhance the performance of our models. It's the only the amount of data but the quality which needs to be high, in order to perform well. \n"
      ]
    },
    {
      "cell_type": "markdown",
      "metadata": {
        "id": "ITfPkRR3HUEt"
      },
      "source": [
        "**Too much data: is it a risk?**"
      ]
    },
    {
      "cell_type": "markdown",
      "metadata": {
        "id": "HtGPKim4Hd8b"
      },
      "source": [
        "Big data allows researcher to reach the natural noise of the data: thanks big data the performance of oiur models is improving, but there is a point after which ther performance is not improving any more. \n",
        "\n",
        "\n",
        "Big data can't help in case of an overfitting problem: an overfitted model has low bias and high variance. The model is then training too much, and we lose performance on prediction dataset.\n",
        "\n",
        "According to Michael Berry, analytics director at Trip advisore \"Many predictive analytics applications turn out not to need all of the data\". It relates to the fact that ,gaining more data won't change things at oon point. \n",
        "\n",
        "\n",
        "\n",
        "\n",
        "\n"
      ]
    },
    {
      "cell_type": "markdown",
      "metadata": {
        "id": "GEBvahnQ7Zsf"
      },
      "source": [
        "Quotes:\n",
        "\n",
        "https://www.researchgate.net/publication/282158923_Small_data_in_the_era_of_big_data/link/5797323c08ae33e89faec2ad/download\n",
        "\n",
        "https://towardsdatascience.com/what-is-big-data-lets-answer-this-question-933b94709caf\n",
        "\n",
        "\n",
        "https://hbr.org/2013/12/you-may-not-need-big-data-after-all\n",
        "\n",
        "https://analyticsindiamag.com/is-more-data-always-better-for-building-analytics-models/\n",
        "\n",
        "https://www.researchgate.net/publication/261947134_Big_Data_Paradigm-_Analysis_Application_and_Challenges\n",
        "\n",
        "https://searchcio.techtarget.com/opinion/Big-data-and-predictive-analytics-When-is-enough-data-enough\n",
        "\n"
      ]
    }
  ]
}