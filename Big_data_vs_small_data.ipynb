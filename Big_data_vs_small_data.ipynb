{
  "nbformat": 4,
  "nbformat_minor": 0,
  "metadata": {
    "colab": {
      "name": "Big data vs. small data.ipynb",
      "provenance": [],
      "collapsed_sections": [],
      "authorship_tag": "ABX9TyOC1rG1FuxOyDxUP85w+4jW",
      "include_colab_link": true
    },
    "kernelspec": {
      "name": "python3",
      "display_name": "Python 3"
    },
    "language_info": {
      "name": "python"
    }
  },
  "cells": [
    {
      "cell_type": "markdown",
      "metadata": {
        "id": "view-in-github",
        "colab_type": "text"
      },
      "source": [
        "<a href=\"https://colab.research.google.com/github/Alienor1268/flight/blob/main/Big_data_vs_small_data.ipynb\" target=\"_parent\"><img src=\"https://colab.research.google.com/assets/colab-badge.svg\" alt=\"Open In Colab\"/></a>"
      ]
    },
    {
      "cell_type": "code",
      "metadata": {
        "id": "47YPwBDqsaxS"
      },
      "source": [
        ""
      ],
      "execution_count": null,
      "outputs": []
    },
    {
      "cell_type": "markdown",
      "metadata": {
        "id": "sE4GFwq5s1hB"
      },
      "source": [
        ""
      ]
    },
    {
      "cell_type": "markdown",
      "metadata": {
        "id": "F2JtmTngstW7"
      },
      "source": [
        "# Do we get different result while scaling the flight data?"
      ]
    },
    {
      "cell_type": "markdown",
      "metadata": {
        "id": "MdRCVdd_s2eC"
      },
      "source": [
        "Is there any differences any different results, while scaling the data? \n",
        "\n",
        "after running the random forest models, we can conclude, that the performace of our model is improving ( but not significantly): it means that we see an improvement but it remains slight.\n",
        "\n",
        "\n",
        "THe RMSE is decreadinng while scaling  to 1 million rows. \n",
        "\n",
        "It costs computational time and power for just slightly better results.\n"
      ]
    },
    {
      "cell_type": "markdown",
      "metadata": {
        "id": "eRH2RpRVuRQL"
      },
      "source": [
        "# A comparison between big and small data\n"
      ]
    },
    {
      "cell_type": "markdown",
      "metadata": {
        "id": "p-aAIrfOuXhD"
      },
      "source": [
        "**small data**\n",
        "Traditional\n",
        "Generally, it is obtained in an organized manner than is inserted into the database\n",
        "Data in the range of tens or hundreds of Gigabytes\n",
        "Data marts(Analysts)\n",
        "Contains less noise as data is less collected in a controlled manner\n"
      ]
    },
    {
      "cell_type": "markdown",
      "metadata": {
        "id": "mTqvWDC3ycSJ"
      },
      "source": [
        ""
      ]
    }
  ]
}