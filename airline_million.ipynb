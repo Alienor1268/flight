{
  "nbformat": 4,
  "nbformat_minor": 0,
  "metadata": {
    "colab": {
      "name": "airline_million.ipynb",
      "provenance": [],
      "collapsed_sections": [],
      "toc_visible": true,
      "authorship_tag": "ABX9TyPI6wihlMcFhSIE5LTxb90s",
      "include_colab_link": true
    },
    "kernelspec": {
      "name": "python3",
      "display_name": "Python 3"
    },
    "language_info": {
      "name": "python"
    }
  },
  "cells": [
    {
      "cell_type": "markdown",
      "metadata": {
        "id": "view-in-github",
        "colab_type": "text"
      },
      "source": [
        "<a href=\"https://colab.research.google.com/github/Alienor1268/flight/blob/main/airline_million.ipynb\" target=\"_parent\"><img src=\"https://colab.research.google.com/assets/colab-badge.svg\" alt=\"Open In Colab\"/></a>"
      ]
    },
    {
      "cell_type": "code",
      "metadata": {
        "id": "SfORveQK-QIF",
        "colab": {
          "resources": {
            "http://localhost:8080/nbextensions/google.colab/files.js": {
              "data": "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",
              "ok": true,
              "headers": [
                [
                  "content-type",
                  "application/javascript"
                ]
              ],
              "status": 200,
              "status_text": "OK"
            }
          },
          "base_uri": "https://localhost:8080/",
          "height": 75
        },
        "outputId": "f55d147f-c7c5-41c8-c437-13965e3a0eb2"
      },
      "source": [
        "!pip install -q kaggle\n",
        "from google.colab import files\n",
        "files.upload()\n",
        "! mkdir ~/.kaggle\n",
        "! cp kaggle.json ~/.kaggle/\n",
        "! chmod 600 ~/.kaggle/kaggle.json\n"
      ],
      "execution_count": null,
      "outputs": [
        {
          "output_type": "display_data",
          "data": {
            "text/html": [
              "\n",
              "     <input type=\"file\" id=\"files-7e0c3492-6489-486c-b650-7802e7f6d895\" name=\"files[]\" multiple disabled\n",
              "        style=\"border:none\" />\n",
              "     <output id=\"result-7e0c3492-6489-486c-b650-7802e7f6d895\">\n",
              "      Upload widget is only available when the cell has been executed in the\n",
              "      current browser session. Please rerun this cell to enable.\n",
              "      </output>\n",
              "      <script src=\"/nbextensions/google.colab/files.js\"></script> "
            ],
            "text/plain": [
              "<IPython.core.display.HTML object>"
            ]
          },
          "metadata": {}
        },
        {
          "output_type": "stream",
          "name": "stdout",
          "text": [
            "Saving kaggle.json to kaggle.json\n"
          ]
        }
      ]
    },
    {
      "cell_type": "code",
      "metadata": {
        "colab": {
          "base_uri": "https://localhost:8080/"
        },
        "id": "z7RpDsM_DXQC",
        "outputId": "6a93aef3-b76f-4d9d-d551-960dbe1cfb07"
      },
      "source": [
        "! kaggle datasets download -d bulter22/airline-data\n",
        "! unzip airline-data.zip"
      ],
      "execution_count": null,
      "outputs": [
        {
          "output_type": "stream",
          "name": "stdout",
          "text": [
            "Downloading airline-data.zip to /content\n",
            "100% 4.20G/4.20G [01:19<00:00, 42.5MB/s]\n",
            "100% 4.20G/4.20G [01:19<00:00, 56.6MB/s]\n",
            "Archive:  airline-data.zip\n",
            "  inflating: airline.csv.shuffle     \n",
            "  inflating: carriers.csv            \n"
          ]
        }
      ]
    },
    {
      "cell_type": "code",
      "metadata": {
        "id": "cwvImvWIDhxI",
        "colab": {
          "base_uri": "https://localhost:8080/"
        },
        "outputId": "90a3fbc0-1f38-4bf9-f3f4-f0c9bb092608"
      },
      "source": [
        "%load_ext rpy2.ipython"
      ],
      "execution_count": null,
      "outputs": [
        {
          "output_type": "stream",
          "name": "stdout",
          "text": [
            "The rpy2.ipython extension is already loaded. To reload it, use:\n",
            "  %reload_ext rpy2.ipython\n"
          ]
        }
      ]
    },
    {
      "cell_type": "code",
      "metadata": {
        "id": "zJChFQO9GFqT"
      },
      "source": [
        "!pip install -q gwpy"
      ],
      "execution_count": null,
      "outputs": []
    },
    {
      "cell_type": "code",
      "metadata": {
        "id": "R16iz0nwDkKX"
      },
      "source": [
        "%%capture\n",
        "%%R\n",
        "install.packages('sparklyr')\n",
        "library(sparklyr)\n",
        "install.packages('dplyr')\n",
        "library(dplyr)\n",
        "library(data.table)\n",
        "spark_install(version = \"3.0.0\")\n"
      ],
      "execution_count": null,
      "outputs": []
    },
    {
      "cell_type": "code",
      "metadata": {
        "id": "N3ZCL0x1DvFX"
      },
      "source": [
        "%%R\n",
        "# only import the first couple of rows for exploratory analysis \n",
        "df_10000 <- fread('/content/airline.csv.shuffle', nrows=10000)\n"
      ],
      "execution_count": null,
      "outputs": []
    },
    {
      "cell_type": "code",
      "metadata": {
        "colab": {
          "base_uri": "https://localhost:8080/"
        },
        "id": "C0lxqOU-HmvD",
        "outputId": "e31ce378-5d1a-407f-f112-16b7e0dcfd9f"
      },
      "source": [
        "%%R\n",
        "df_10000_naomit <- na.omit(df_10000)\n",
        "sum(is.na(df_10000_naomit))\n",
        "str(df_10000_naomit)"
      ],
      "execution_count": null,
      "outputs": [
        {
          "output_type": "stream",
          "name": "stdout",
          "text": [
            "Classes ‘data.table’ and 'data.frame':\t2672 obs. of  29 variables:\n",
            " $ ActualElapsedTime: int  45 100 33 57 95 143 81 119 64 64 ...\n",
            " $ AirTime          : int  29 81 22 31 74 122 60 100 50 56 ...\n",
            " $ ArrDelay         : int  2 -2 -3 -9 136 4 -6 -18 -24 -1 ...\n",
            " $ ArrTime          : int  1120 1220 1916 1659 2343 824 1049 1547 1956 2144 ...\n",
            " $ CRSArrTime       : int  1118 1222 1919 1708 2127 820 1055 1605 2020 2145 ...\n",
            " $ CRSDepTime       : int  1030 1045 1845 1612 2035 600 930 1450 1900 2040 ...\n",
            " $ CRSElapsedTime   : int  48 97 34 56 112 140 85 135 80 65 ...\n",
            " $ CancellationCode : chr  \"\" \"\" \"\" \"\" ...\n",
            " $ Cancelled        : int  0 0 0 0 0 0 0 0 0 0 ...\n",
            " $ CarrierDelay     : int  0 0 0 0 136 0 0 0 0 0 ...\n",
            " $ DayOfWeek        : int  1 1 2 5 7 4 2 3 2 7 ...\n",
            " $ DayofMonth       : int  19 6 6 4 30 21 21 3 10 11 ...\n",
            " $ DepDelay         : int  5 -5 -2 -10 153 1 -2 -2 -8 0 ...\n",
            " $ DepTime          : int  1035 1040 1843 1602 2308 601 928 1448 1852 2040 ...\n",
            " $ Dest             : chr  \"CMH\" \"ATL\" \"HNL\" \"ATL\" ...\n",
            " $ Distance         : int  116 300 100 152 563 780 429 599 214 358 ...\n",
            " $ Diverted         : int  0 0 0 0 0 0 0 0 0 0 ...\n",
            " $ FlightNum        : int  5873 4120 549 4632 4811 662 4473 7449 4976 893 ...\n",
            " $ LateAircraftDelay: int  0 0 0 0 0 0 0 0 0 0 ...\n",
            " $ Month            : int  6 11 11 2 7 12 8 12 2 1 ...\n",
            " $ NASDelay         : int  0 0 0 0 0 0 0 0 0 0 ...\n",
            " $ Origin           : chr  \"CVG\" \"GNV\" \"OGG\" \"TYS\" ...\n",
            " $ SecurityDelay    : int  0 0 0 0 0 0 0 0 0 0 ...\n",
            " $ TailNum          : chr  \"N785CA\" \"N632AS\" \"N477HA\" \"N846AS\" ...\n",
            " $ TaxiIn           : int  3 10 5 9 3 11 5 7 5 1 ...\n",
            " $ TaxiOut          : int  13 9 6 17 18 10 16 11 9 7 ...\n",
            " $ UniqueCarrier    : chr  \"OH\" \"EV\" \"HA\" \"EV\" ...\n",
            " $ WeatherDelay     : int  0 0 0 0 0 0 0 0 0 0 ...\n",
            " $ Year             : int  2006 2006 2007 2005 2006 2006 2007 2003 2004 2004 ...\n",
            " - attr(*, \".internal.selfref\")=<externalptr> \n"
          ]
        }
      ]
    },
    {
      "cell_type": "code",
      "metadata": {
        "colab": {
          "base_uri": "https://localhost:8080/"
        },
        "id": "GAA8-Y5ZdpMc",
        "outputId": "4168f780-d9ff-4f95-c78d-e611bc09126c"
      },
      "source": [
        "%%R\n",
        "df_10000_int = select(df_10000_naomit, -8, -15, -22, -24, -27)\n",
        "str(df_10000_int)"
      ],
      "execution_count": null,
      "outputs": [
        {
          "output_type": "stream",
          "name": "stdout",
          "text": [
            "Classes ‘data.table’ and 'data.frame':\t2672 obs. of  24 variables:\n",
            " $ ActualElapsedTime: int  45 100 33 57 95 143 81 119 64 64 ...\n",
            " $ AirTime          : int  29 81 22 31 74 122 60 100 50 56 ...\n",
            " $ ArrDelay         : int  2 -2 -3 -9 136 4 -6 -18 -24 -1 ...\n",
            " $ ArrTime          : int  1120 1220 1916 1659 2343 824 1049 1547 1956 2144 ...\n",
            " $ CRSArrTime       : int  1118 1222 1919 1708 2127 820 1055 1605 2020 2145 ...\n",
            " $ CRSDepTime       : int  1030 1045 1845 1612 2035 600 930 1450 1900 2040 ...\n",
            " $ CRSElapsedTime   : int  48 97 34 56 112 140 85 135 80 65 ...\n",
            " $ Cancelled        : int  0 0 0 0 0 0 0 0 0 0 ...\n",
            " $ CarrierDelay     : int  0 0 0 0 136 0 0 0 0 0 ...\n",
            " $ DayOfWeek        : int  1 1 2 5 7 4 2 3 2 7 ...\n",
            " $ DayofMonth       : int  19 6 6 4 30 21 21 3 10 11 ...\n",
            " $ DepDelay         : int  5 -5 -2 -10 153 1 -2 -2 -8 0 ...\n",
            " $ DepTime          : int  1035 1040 1843 1602 2308 601 928 1448 1852 2040 ...\n",
            " $ Distance         : int  116 300 100 152 563 780 429 599 214 358 ...\n",
            " $ Diverted         : int  0 0 0 0 0 0 0 0 0 0 ...\n",
            " $ FlightNum        : int  5873 4120 549 4632 4811 662 4473 7449 4976 893 ...\n",
            " $ LateAircraftDelay: int  0 0 0 0 0 0 0 0 0 0 ...\n",
            " $ Month            : int  6 11 11 2 7 12 8 12 2 1 ...\n",
            " $ NASDelay         : int  0 0 0 0 0 0 0 0 0 0 ...\n",
            " $ SecurityDelay    : int  0 0 0 0 0 0 0 0 0 0 ...\n",
            " $ TaxiIn           : int  3 10 5 9 3 11 5 7 5 1 ...\n",
            " $ TaxiOut          : int  13 9 6 17 18 10 16 11 9 7 ...\n",
            " $ WeatherDelay     : int  0 0 0 0 0 0 0 0 0 0 ...\n",
            " $ Year             : int  2006 2006 2007 2005 2006 2006 2007 2003 2004 2004 ...\n",
            " - attr(*, \".internal.selfref\")=<externalptr> \n"
          ]
        }
      ]
    },
    {
      "cell_type": "markdown",
      "metadata": {
        "id": "Jj0o3vNtKwDu"
      },
      "source": [
        "**read 100 000 rows**"
      ]
    },
    {
      "cell_type": "code",
      "metadata": {
        "id": "x89wCF4oIGel"
      },
      "source": [
        "%%R\n",
        "# only import the first couple of rows for exploratory analysis \n",
        "df_100000 <- fread('/content/airline.csv.shuffle', nrows=100000)\n",
        "df_100000_naomit <- na.omit(df_100000)\n",
        "df_100000_int = select(df_100000_naomit, -8, -15, -22, -24, -27)\n"
      ],
      "execution_count": null,
      "outputs": []
    },
    {
      "cell_type": "markdown",
      "metadata": {
        "id": "6mdDEJd_LNTZ"
      },
      "source": [
        "**read million rows**"
      ]
    },
    {
      "cell_type": "code",
      "metadata": {
        "id": "4NuPrHThLWig"
      },
      "source": [
        "%%R\n",
        "# only import the first couple of rows for exploratory analysis \n",
        "df_million <- fread('/content/airline.csv.shuffle', nrows=1000000)\n",
        "df_million_naomit <- na.omit(df_million)\n",
        "df_million_int = select(df_million_naomit, -8, -15, -22, -24, -27)"
      ],
      "execution_count": null,
      "outputs": []
    },
    {
      "cell_type": "markdown",
      "metadata": {
        "id": "ND5tOyS2N8PC"
      },
      "source": [
        "**read five million rows**"
      ]
    },
    {
      "cell_type": "code",
      "metadata": {
        "id": "EZgp0ErBNjvR"
      },
      "source": [
        "%%R\n",
        "# only import the first couple of rows for exploratory analysis \n",
        "df_five_million <- fread('/content/airline.csv.shuffle', nrows=5000000)\n",
        "df_five_million_naomit <- na.omit(df_five_million)\n",
        "df_five_million_int = select(df_five_million_naomit, -8, -15, -22, -24, -27)"
      ],
      "execution_count": null,
      "outputs": []
    },
    {
      "cell_type": "code",
      "metadata": {
        "colab": {
          "base_uri": "https://localhost:8080/"
        },
        "id": "6jq72ZauD3Q4",
        "outputId": "22af0bec-1e0a-4455-cf3c-fef568920710"
      },
      "source": [
        "%%R\n",
        "# connect to spark \n",
        "spark_conn <- spark_connect(\"local\")\n",
        "df_tbl0000 <- copy_to(spark_conn, df_10000_int,  overwrite = TRUE)\n",
        "df_tbl00000 <- copy_to(spark_conn, df_100000_int,  overwrite = TRUE)\n",
        "df_million <- copy_to(spark_conn, df_million_int,  overwrite = TRUE)\n"
      ],
      "execution_count": null,
      "outputs": [
        {
          "output_type": "stream",
          "name": "stderr",
          "text": [
            "R[write to console]: * Using Spark: 3.0.0\n",
            "\n"
          ]
        }
      ]
    },
    {
      "cell_type": "code",
      "metadata": {
        "colab": {
          "base_uri": "https://localhost:8080/"
        },
        "id": "t9a3Cs10L3UK",
        "outputId": "e8ed4c1e-4c42-4e4d-c1e0-4469e04a0b9d"
      },
      "source": [
        "%%R\n",
        "spark_conn <- spark_connect(\"local\")\n",
        "df_tblfive_million <- copy_to(spark_conn, df_five_million_int,  overwrite = TRUE)"
      ],
      "execution_count": null,
      "outputs": [
        {
          "output_type": "stream",
          "name": "stderr",
          "text": [
            "R[write to console]: Re-using existing Spark connection to local\n",
            "\n"
          ]
        }
      ]
    },
    {
      "cell_type": "markdown",
      "metadata": {
        "id": "d-U5PsclKctM"
      },
      "source": [
        "**random forest for 10 000 rows**"
      ]
    },
    {
      "cell_type": "code",
      "metadata": {
        "colab": {
          "base_uri": "https://localhost:8080/"
        },
        "id": "JmXbTBI42gR4",
        "outputId": "d4c72647-d513-4f82-8b49-939e51ca4413"
      },
      "source": [
        "%%R\n",
        "# training and test set\n",
        "partitions <- df_tbl0000 %>%\n",
        "  sdf_random_split(training = 0.7, test = 0.3, seed = 1111)\n",
        "df_tbl0000_training <- partitions$training\n",
        "df_tbl0000_test <- partitions$test\n",
        "rf_model <- df_tbl0000_training %>%\n",
        "  ml_random_forest(ArrDelay ~ ., type = \"regression\")\n",
        "pred <- ml_predict(rf_model, df_tbl0000_test)\n",
        "ml_regression_evaluator(pred, label_col = 'ArrDelay', metric_name = \"rmse\",)\n"
      ],
      "execution_count": null,
      "outputs": [
        {
          "output_type": "stream",
          "name": "stdout",
          "text": [
            "[1] 13.32442\n"
          ]
        }
      ]
    },
    {
      "cell_type": "markdown",
      "metadata": {
        "id": "vCJeyT8pKW18"
      },
      "source": [
        "**random forest for 100 000 rows**"
      ]
    },
    {
      "cell_type": "code",
      "metadata": {
        "colab": {
          "base_uri": "https://localhost:8080/"
        },
        "id": "U-nTXN4YJOAP",
        "outputId": "6d61a137-2793-47c0-a763-8597cc50ab1e"
      },
      "source": [
        "%%R\n",
        "# training and test set - for 100 000 rows\n",
        "partitions100000 <- df_tbl00000 %>%\n",
        "  sdf_random_split(training = 0.7, test = 0.3, seed = 1111)\n",
        "df_tbl00000_training <- partitions100000$training\n",
        "df_tbl00000_test <- partitions100000$test\n",
        "rf_model <- df_tbl00000_training %>%\n",
        "  ml_random_forest(ArrDelay ~ ., type = \"regression\")\n",
        "pred_100000 <- ml_predict(rf_model, df_tbl00000_test)\n",
        "ml_regression_evaluator(pred_100000, label_col = 'ArrDelay', metric_name = \"rmse\")"
      ],
      "execution_count": null,
      "outputs": [
        {
          "output_type": "stream",
          "name": "stdout",
          "text": [
            "[1] 22.55833\n"
          ]
        }
      ]
    },
    {
      "cell_type": "markdown",
      "metadata": {
        "id": "dQiLdUcpNbXD"
      },
      "source": [
        "**random forest for million rows**"
      ]
    },
    {
      "cell_type": "code",
      "metadata": {
        "colab": {
          "base_uri": "https://localhost:8080/"
        },
        "id": "C5OR2nnpKTt1",
        "outputId": "912e730f-3b84-4825-acb6-2deaa4378683"
      },
      "source": [
        "%%R\n",
        "# training and test set - for 1 000 000 rows\n",
        "partition_million <- df_million %>%\n",
        "  sdf_random_split(training = 0.7, test = 0.3, seed = 1111)\n",
        "df_million_training <- partition_million$training\n",
        "df_million_test <- partition_million$test\n",
        "rf_model <- df_million_training %>%\n",
        "  ml_random_forest(ArrDelay ~ ., type = \"regression\")\n",
        "pred_million <- ml_predict(rf_model, df_million_test)\n",
        "ml_regression_evaluator(pred_million, label_col = 'ArrDelay', metric_name = \"rmse\",)\n"
      ],
      "execution_count": null,
      "outputs": [
        {
          "output_type": "stream",
          "name": "stdout",
          "text": [
            "[1] 15.96427\n"
          ]
        }
      ]
    },
    {
      "cell_type": "code",
      "metadata": {
        "id": "xWfCIzk9OM7c"
      },
      "source": [
        "%%R\n",
        "# training and test set - for 100 000 rows\n",
        "partition_five_million <- df_tblfive_million %>%\n",
        "  sdf_random_split(training = 0.7, test = 0.3, seed = 1111)\n",
        "df_five_million_training <- partition_five_million$training\n",
        "df_five_million_test <- partition_five_million$test\n",
        "rf_model_five_million <- df_five_million_training %>%\n",
        "  ml_random_forest(ArrDelay ~ ., type = \"regression\")\n",
        "pred_five_million <- ml_predict(rf_model_five_million, df_five_million_test)\n",
        "ml_regression_evaluator(pred_five_million, label_col = 'ArrDelay', metric_name = \"rmse\",)"
      ],
      "execution_count": null,
      "outputs": []
    },
    {
      "cell_type": "code",
      "metadata": {
        "id": "dZlekNt3fUBj"
      },
      "source": [
        "#%%R\n",
        "#model1 <- ml_random_forest_regressor(\n",
        "  #df_tbl0000,\n",
        "  #formula = ArrDelay ~ DayOfWeek ,\n",
        "  #num_trees = 20,\n",
        "  #subsampling_rate = 1,\n",
        "  #max_depth = 5,\n",
        ")"
      ],
      "execution_count": null,
      "outputs": []
    },
    {
      "cell_type": "code",
      "metadata": {
        "id": "V0wO-ypq9lFt"
      },
      "source": [
        ""
      ],
      "execution_count": null,
      "outputs": []
    }
  ]
}