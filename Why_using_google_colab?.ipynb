{
  "nbformat": 4,
  "nbformat_minor": 0,
  "metadata": {
    "colab": {
      "name": "Why using google colab?.ipynb",
      "provenance": [],
      "collapsed_sections": [],
      "authorship_tag": "ABX9TyNv1nProFw9wjyDrwrdOddY",
      "include_colab_link": true
    },
    "kernelspec": {
      "name": "python3",
      "display_name": "Python 3"
    },
    "language_info": {
      "name": "python"
    }
  },
  "cells": [
    {
      "cell_type": "markdown",
      "metadata": {
        "id": "view-in-github",
        "colab_type": "text"
      },
      "source": [
        "<a href=\"https://colab.research.google.com/github/Alienor1268/flight/blob/main/Why_using_google_colab%3F.ipynb\" target=\"_parent\"><img src=\"https://colab.research.google.com/assets/colab-badge.svg\" alt=\"Open In Colab\"/></a>"
      ]
    },
    {
      "cell_type": "markdown",
      "metadata": {
        "id": "Vur55CZ5RhUb"
      },
      "source": [
        "## THE ADVANTAGES OF GOOGLE COLAB\n"
      ]
    },
    {
      "cell_type": "markdown",
      "metadata": {
        "id": "ZHaqT-KVSgPy"
      },
      "source": [
        "Google colab is thought for research project,  the colaboration files are hosted on in Jupyter Notebook (but we can use R with %%R)\n",
        "Thanls to e free access, GPU and TPU can be used. \n",
        "Data are stored in the cloud, it allows collaboration between several users. Google colab allows users to run machine learning algorithms in a cloud environement. \n",
        "\n",
        "The preinstalled libraries are pandas, numpy, Matplotlib. Machine learning tools such as Keras, Tensorflow, Pytorch are pre installed. \n",
        "\n",
        "Google colab is cloud solution , we can register with a google drive account. \n",
        "\n",
        "Google colab is offering direkt links to kaggle and git hub. \n",
        "\n"
      ]
    },
    {
      "cell_type": "markdown",
      "metadata": {
        "id": "OcQWtGO79uW1"
      },
      "source": [
        "\n",
        "# How is google colab built? "
      ]
    },
    {
      "cell_type": "markdown",
      "metadata": {
        "id": "NG8T6wDY93ud"
      },
      "source": [
        "Google colab is a specialized version of a Jupyter notebook, it's based on Ipython. \n",
        "Ipython is an interactive terminal or shell for Python programation.  Notebooks Environement like Jupyter notebook are running with Ipython It provides powerfull python shells and a web based notebook ( which allows to write code, text, images..)\n",
        "\n",
        "What is the difference between Python and Ipython? \n",
        "Python is a general programing language ( created by Guido van Rossum in the 80s). Ipython which has been created in 2001 is providing a nread-eval-print loop (REPL) environment\n",
        "\n",
        "Ipython is offering an interface to use python code and a kernel with frontenf interfaces. \n",
        " \n",
        "\n"
      ]
    },
    {
      "cell_type": "markdown",
      "metadata": {
        "id": "dAQgQozFsSMs"
      },
      "source": [
        "# Easy to set up \n"
      ]
    },
    {
      "cell_type": "markdown",
      "metadata": {
        "id": "w3x31xeEkMmS"
      },
      "source": [
        "\n",
        " \n",
        " Google colab doesn't need an environement, it easy to set up for beginners. All the files are stored in google drive. It's easy to start , there are a lot of tutorials online and it's user friendly.\n",
        "\n",
        "\n",
        " It enables developpers to work together on project \n",
        "\n",
        "Directly links to kaggle and git \n",
        "\n",
        "\n"
      ]
    },
    {
      "cell_type": "markdown",
      "metadata": {
        "id": "kjAizvEM8poD"
      },
      "source": [
        "# Google colab: a cloud based solution"
      ]
    },
    {
      "cell_type": "markdown",
      "metadata": {
        "id": "bu2I2EDsmH2l"
      },
      "source": [
        "A cloud enables user s to acces files from any kind of device. Files are not stored locally. \n",
        "Google colab as a virual machinne, it means that it works like a  digital computer only. \n"
      ]
    },
    {
      "cell_type": "markdown",
      "metadata": {
        "id": "WzoeC031Kl4a"
      },
      "source": [
        "Google colab allows user to get extra computing power.  \n",
        "Google colab is not  a storage solution, the files get deleted as soon as the sesscion is closed. \n",
        "\n",
        "\n"
      ]
    },
    {
      "cell_type": "markdown",
      "metadata": {
        "id": "VwYAnPLhTquQ"
      },
      "source": [
        "# Google Colab for performing big data"
      ]
    },
    {
      "cell_type": "markdown",
      "metadata": {
        "id": "Lf8fa-XjTx6Y"
      },
      "source": [
        "In google colab: we can use Spark which is framework used for big data. \n",
        "If we are using a cloud solution such as Colab and a framwork such as Spark, we can hope performing big data. With Google colab it's possible to train large machine and deep learning algorithms. \n",
        "\n",
        "\n",
        "Machine learning algorithms can need large computational power, google colab is providing classical CPU run time, but free TPU and GPU in order to empower this expensive computational process. \n",
        "\n",
        "\n",
        "A GPU is performing parallel computatio, it enables speed maximising."
      ]
    },
    {
      "cell_type": "markdown",
      "metadata": {
        "id": "IElpiAhpUTcJ"
      },
      "source": [
        "GPU can"
      ]
    },
    {
      "cell_type": "markdown",
      "metadata": {
        "id": "jEJKBfBg7x9x"
      },
      "source": [
        "Sources:\n",
        "\n",
        "https://towardsdatascience.com/4-reasons-why-you-should-use-google-colab-for-your-next-project-b0c4aaad39ed\n",
        "\n",
        "https://plotly.com/python/ipython-vs-python/\n",
        "https://medium.com/@rmache/big-data-with-spark-in-google-colab-7c046e24b3\n",
        "https://www.analyticsvidhya.com/blog/2020/03/google-colab-machine-learning-deep-learning/\n",
        "\n",
        "\n"
      ]
    },
    {
      "cell_type": "code",
      "metadata": {
        "id": "zfxYBJq4qT56"
      },
      "source": [
        ""
      ],
      "execution_count": null,
      "outputs": []
    },
    {
      "cell_type": "code",
      "metadata": {
        "id": "qrTyaApkII_G"
      },
      "source": [
        ""
      ],
      "execution_count": null,
      "outputs": []
    }
  ]
}