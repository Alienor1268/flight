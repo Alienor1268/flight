{
  "nbformat": 4,
  "nbformat_minor": 0,
  "metadata": {
    "colab": {
      "name": "Why using google colab?.ipynb",
      "provenance": [],
      "authorship_tag": "ABX9TyMqQHLoR1yPfRJeOTEsOZuh",
      "include_colab_link": true
    },
    "kernelspec": {
      "name": "python3",
      "display_name": "Python 3"
    },
    "language_info": {
      "name": "python"
    }
  },
  "cells": [
    {
      "cell_type": "markdown",
      "metadata": {
        "id": "view-in-github",
        "colab_type": "text"
      },
      "source": [
        "<a href=\"https://colab.research.google.com/github/Alienor1268/flight/blob/main/Why_using_google_colab%3F.ipynb\" target=\"_parent\"><img src=\"https://colab.research.google.com/assets/colab-badge.svg\" alt=\"Open In Colab\"/></a>"
      ]
    },
    {
      "cell_type": "markdown",
      "metadata": {
        "id": "Vur55CZ5RhUb"
      },
      "source": [
        "## THE ADVANTAGES OF GOOGLE COLAB\n"
      ]
    },
    {
      "cell_type": "markdown",
      "metadata": {
        "id": "ZHaqT-KVSgPy"
      },
      "source": [
        "Google colab is thought for research project,  the colaboration files are hosted on in Jupyter Notebook (but we can use R with %%R)\n",
        "Thanls to e free access, GPU and TPU can be used. \n",
        "Data are stored in the cloud, it allows collaboration between several users. \n",
        "\n",
        "The preinstalled libraries are pandas, numpy, Matplotlib. Machine learning tools such as Keras, Tensorflow, Pytorch are pre installed. \n",
        "\n",
        "Google colab is cloud solution , we can register with a google drive account. \n",
        "\n",
        "Google colab is offering direkt links to kaggle and git hub. \n",
        "\n"
      ]
    }
  ]
}